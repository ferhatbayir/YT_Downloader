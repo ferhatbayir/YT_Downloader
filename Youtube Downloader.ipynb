{
 "cells": [
  {
   "attachments": {},
   "cell_type": "markdown",
   "metadata": {},
   "source": [
    "YT Downloader\n",
    "\n"
   ]
  },
  {
   "cell_type": "code",
   "execution_count": 6,
   "metadata": {},
   "outputs": [
    {
     "name": "stdout",
     "output_type": "stream",
     "text": [
      "^C\n",
      "Note: you may need to restart the kernel to use updated packages.\n"
     ]
    }
   ],
   "source": [
    "pip uninstall pytube pip install pytube3"
   ]
  },
  {
   "cell_type": "code",
   "execution_count": 4,
   "metadata": {},
   "outputs": [
    {
     "ename": "RegexMatchError",
     "evalue": "get_throttling_function_name: could not find match for multiple",
     "output_type": "error",
     "traceback": [
      "\u001b[1;31m---------------------------------------------------------------------------\u001b[0m",
      "\u001b[1;31mRegexMatchError\u001b[0m                           Traceback (most recent call last)",
      "File \u001b[1;32mc:\\Users\\keanu\\AppData\\Local\\Programs\\Python\\Python38\\lib\\site-packages\\pytube\\__main__.py:181\u001b[0m, in \u001b[0;36mYouTube.fmt_streams\u001b[1;34m(self)\u001b[0m\n\u001b[0;32m    180\u001b[0m \u001b[39mtry\u001b[39;00m:\n\u001b[1;32m--> 181\u001b[0m     extract\u001b[39m.\u001b[39;49mapply_signature(stream_manifest, \u001b[39mself\u001b[39;49m\u001b[39m.\u001b[39;49mvid_info, \u001b[39mself\u001b[39;49m\u001b[39m.\u001b[39;49mjs)\n\u001b[0;32m    182\u001b[0m \u001b[39mexcept\u001b[39;00m exceptions\u001b[39m.\u001b[39mExtractError:\n\u001b[0;32m    183\u001b[0m     \u001b[39m# To force an update to the js file, we clear the cache and retry\u001b[39;00m\n",
      "File \u001b[1;32mc:\\Users\\keanu\\AppData\\Local\\Programs\\Python\\Python38\\lib\\site-packages\\pytube\\extract.py:409\u001b[0m, in \u001b[0;36mapply_signature\u001b[1;34m(stream_manifest, vid_info, js)\u001b[0m\n\u001b[0;32m    401\u001b[0m \u001b[39m\u001b[39m\u001b[39m\"\"\"Apply the decrypted signature to the stream manifest.\u001b[39;00m\n\u001b[0;32m    402\u001b[0m \n\u001b[0;32m    403\u001b[0m \u001b[39m:param dict stream_manifest:\u001b[39;00m\n\u001b[1;32m   (...)\u001b[0m\n\u001b[0;32m    407\u001b[0m \n\u001b[0;32m    408\u001b[0m \u001b[39m\"\"\"\u001b[39;00m\n\u001b[1;32m--> 409\u001b[0m cipher \u001b[39m=\u001b[39m Cipher(js\u001b[39m=\u001b[39;49mjs)\n\u001b[0;32m    411\u001b[0m \u001b[39mfor\u001b[39;00m i, stream \u001b[39min\u001b[39;00m \u001b[39menumerate\u001b[39m(stream_manifest):\n",
      "File \u001b[1;32mc:\\Users\\keanu\\AppData\\Local\\Programs\\Python\\Python38\\lib\\site-packages\\pytube\\cipher.py:43\u001b[0m, in \u001b[0;36mCipher.__init__\u001b[1;34m(self, js)\u001b[0m\n\u001b[0;32m     38\u001b[0m \u001b[39mself\u001b[39m\u001b[39m.\u001b[39mjs_func_patterns \u001b[39m=\u001b[39m [\n\u001b[0;32m     39\u001b[0m     \u001b[39mr\u001b[39m\u001b[39m\"\u001b[39m\u001b[39m\\\u001b[39m\u001b[39mw+\u001b[39m\u001b[39m\\\u001b[39m\u001b[39m.(\u001b[39m\u001b[39m\\\u001b[39m\u001b[39mw+)\u001b[39m\u001b[39m\\\u001b[39m\u001b[39m(\u001b[39m\u001b[39m\\\u001b[39m\u001b[39mw,(\u001b[39m\u001b[39m\\\u001b[39m\u001b[39md+)\u001b[39m\u001b[39m\\\u001b[39m\u001b[39m)\u001b[39m\u001b[39m\"\u001b[39m,\n\u001b[0;32m     40\u001b[0m     \u001b[39mr\u001b[39m\u001b[39m\"\u001b[39m\u001b[39m\\\u001b[39m\u001b[39mw+\u001b[39m\u001b[39m\\\u001b[39m\u001b[39m[(\u001b[39m\u001b[39m\\\"\u001b[39;00m\u001b[39m\\\u001b[39m\u001b[39mw+\u001b[39m\u001b[39m\\\"\u001b[39;00m\u001b[39m)\u001b[39m\u001b[39m\\\u001b[39m\u001b[39m]\u001b[39m\u001b[39m\\\u001b[39m\u001b[39m(\u001b[39m\u001b[39m\\\u001b[39m\u001b[39mw,(\u001b[39m\u001b[39m\\\u001b[39m\u001b[39md+)\u001b[39m\u001b[39m\\\u001b[39m\u001b[39m)\u001b[39m\u001b[39m\"\u001b[39m\n\u001b[0;32m     41\u001b[0m ]\n\u001b[1;32m---> 43\u001b[0m \u001b[39mself\u001b[39m\u001b[39m.\u001b[39mthrottling_plan \u001b[39m=\u001b[39m get_throttling_plan(js)\n\u001b[0;32m     44\u001b[0m \u001b[39mself\u001b[39m\u001b[39m.\u001b[39mthrottling_array \u001b[39m=\u001b[39m get_throttling_function_array(js)\n",
      "File \u001b[1;32mc:\\Users\\keanu\\AppData\\Local\\Programs\\Python\\Python38\\lib\\site-packages\\pytube\\cipher.py:405\u001b[0m, in \u001b[0;36mget_throttling_plan\u001b[1;34m(js)\u001b[0m\n\u001b[0;32m    393\u001b[0m \u001b[39m\u001b[39m\u001b[39m\"\"\"Extract the \"throttling plan\".\u001b[39;00m\n\u001b[0;32m    394\u001b[0m \n\u001b[0;32m    395\u001b[0m \u001b[39mThe \"throttling plan\" is a list of tuples used for calling functions\u001b[39;00m\n\u001b[1;32m   (...)\u001b[0m\n\u001b[0;32m    403\u001b[0m \u001b[39m    The full function code for computing the throttlign parameter.\u001b[39;00m\n\u001b[0;32m    404\u001b[0m \u001b[39m\"\"\"\u001b[39;00m\n\u001b[1;32m--> 405\u001b[0m raw_code \u001b[39m=\u001b[39m get_throttling_function_code(js)\n\u001b[0;32m    407\u001b[0m transform_start \u001b[39m=\u001b[39m \u001b[39mr\u001b[39m\u001b[39m\"\u001b[39m\u001b[39mtry\u001b[39m\u001b[39m{\u001b[39m\u001b[39m\"\u001b[39m\n",
      "File \u001b[1;32mc:\\Users\\keanu\\AppData\\Local\\Programs\\Python\\Python38\\lib\\site-packages\\pytube\\cipher.py:311\u001b[0m, in \u001b[0;36mget_throttling_function_code\u001b[1;34m(js)\u001b[0m\n\u001b[0;32m    310\u001b[0m \u001b[39m# Begin by extracting the correct function name\u001b[39;00m\n\u001b[1;32m--> 311\u001b[0m name \u001b[39m=\u001b[39m re\u001b[39m.\u001b[39mescape(get_throttling_function_name(js))\n\u001b[0;32m    313\u001b[0m \u001b[39m# Identify where the function is defined\u001b[39;00m\n",
      "File \u001b[1;32mc:\\Users\\keanu\\AppData\\Local\\Programs\\Python\\Python38\\lib\\site-packages\\pytube\\cipher.py:296\u001b[0m, in \u001b[0;36mget_throttling_function_name\u001b[1;34m(js)\u001b[0m\n\u001b[0;32m    294\u001b[0m                 \u001b[39mreturn\u001b[39;00m array[\u001b[39mint\u001b[39m(idx)]\n\u001b[1;32m--> 296\u001b[0m \u001b[39mraise\u001b[39;00m RegexMatchError(\n\u001b[0;32m    297\u001b[0m     caller\u001b[39m=\u001b[39m\u001b[39m\"\u001b[39m\u001b[39mget_throttling_function_name\u001b[39m\u001b[39m\"\u001b[39m, pattern\u001b[39m=\u001b[39m\u001b[39m\"\u001b[39m\u001b[39mmultiple\u001b[39m\u001b[39m\"\u001b[39m\n\u001b[0;32m    298\u001b[0m )\n",
      "\u001b[1;31mRegexMatchError\u001b[0m: get_throttling_function_name: could not find match for multiple",
      "\nDuring handling of the above exception, another exception occurred:\n",
      "\u001b[1;31mRegexMatchError\u001b[0m                           Traceback (most recent call last)",
      "Cell \u001b[1;32mIn[4], line 7\u001b[0m\n\u001b[0;32m      3\u001b[0m link \u001b[39m=\u001b[39m \u001b[39minput\u001b[39m(\u001b[39m\"\u001b[39m\u001b[39mVideo URL\u001b[39m\u001b[39m'\u001b[39m\u001b[39msini girin: \u001b[39m\u001b[39m\"\u001b[39m)\n\u001b[0;32m      5\u001b[0m ytube \u001b[39m=\u001b[39m YouTube(link)\n\u001b[1;32m----> 7\u001b[0m ytube \u001b[39m=\u001b[39m ytube\u001b[39m.\u001b[39;49mstreams\u001b[39m.\u001b[39mget_highest_resolution\n\u001b[0;32m      9\u001b[0m ytube\u001b[39m.\u001b[39mdownload()\n",
      "File \u001b[1;32mc:\\Users\\keanu\\AppData\\Local\\Programs\\Python\\Python38\\lib\\site-packages\\pytube\\__main__.py:296\u001b[0m, in \u001b[0;36mYouTube.streams\u001b[1;34m(self)\u001b[0m\n\u001b[0;32m    291\u001b[0m \u001b[39m\u001b[39m\u001b[39m\"\"\"Interface to query both adaptive (DASH) and progressive streams.\u001b[39;00m\n\u001b[0;32m    292\u001b[0m \n\u001b[0;32m    293\u001b[0m \u001b[39m:rtype: :class:`StreamQuery <StreamQuery>`.\u001b[39;00m\n\u001b[0;32m    294\u001b[0m \u001b[39m\"\"\"\u001b[39;00m\n\u001b[0;32m    295\u001b[0m \u001b[39mself\u001b[39m\u001b[39m.\u001b[39mcheck_availability()\n\u001b[1;32m--> 296\u001b[0m \u001b[39mreturn\u001b[39;00m StreamQuery(\u001b[39mself\u001b[39;49m\u001b[39m.\u001b[39;49mfmt_streams)\n",
      "File \u001b[1;32mc:\\Users\\keanu\\AppData\\Local\\Programs\\Python\\Python38\\lib\\site-packages\\pytube\\__main__.py:188\u001b[0m, in \u001b[0;36mYouTube.fmt_streams\u001b[1;34m(self)\u001b[0m\n\u001b[0;32m    186\u001b[0m     pytube\u001b[39m.\u001b[39m__js__ \u001b[39m=\u001b[39m \u001b[39mNone\u001b[39;00m\n\u001b[0;32m    187\u001b[0m     pytube\u001b[39m.\u001b[39m__js_url__ \u001b[39m=\u001b[39m \u001b[39mNone\u001b[39;00m\n\u001b[1;32m--> 188\u001b[0m     extract\u001b[39m.\u001b[39;49mapply_signature(stream_manifest, \u001b[39mself\u001b[39;49m\u001b[39m.\u001b[39;49mvid_info, \u001b[39mself\u001b[39;49m\u001b[39m.\u001b[39;49mjs)\n\u001b[0;32m    190\u001b[0m \u001b[39m# build instances of :class:`Stream <Stream>`\u001b[39;00m\n\u001b[0;32m    191\u001b[0m \u001b[39m# Initialize stream objects\u001b[39;00m\n\u001b[0;32m    192\u001b[0m \u001b[39mfor\u001b[39;00m stream \u001b[39min\u001b[39;00m stream_manifest:\n",
      "File \u001b[1;32mc:\\Users\\keanu\\AppData\\Local\\Programs\\Python\\Python38\\lib\\site-packages\\pytube\\extract.py:409\u001b[0m, in \u001b[0;36mapply_signature\u001b[1;34m(stream_manifest, vid_info, js)\u001b[0m\n\u001b[0;32m    400\u001b[0m \u001b[39mdef\u001b[39;00m \u001b[39mapply_signature\u001b[39m(stream_manifest: Dict, vid_info: Dict, js: \u001b[39mstr\u001b[39m) \u001b[39m-\u001b[39m\u001b[39m>\u001b[39m \u001b[39mNone\u001b[39;00m:\n\u001b[0;32m    401\u001b[0m \u001b[39m    \u001b[39m\u001b[39m\"\"\"Apply the decrypted signature to the stream manifest.\u001b[39;00m\n\u001b[0;32m    402\u001b[0m \n\u001b[0;32m    403\u001b[0m \u001b[39m    :param dict stream_manifest:\u001b[39;00m\n\u001b[1;32m   (...)\u001b[0m\n\u001b[0;32m    407\u001b[0m \n\u001b[0;32m    408\u001b[0m \u001b[39m    \"\"\"\u001b[39;00m\n\u001b[1;32m--> 409\u001b[0m     cipher \u001b[39m=\u001b[39m Cipher(js\u001b[39m=\u001b[39;49mjs)\n\u001b[0;32m    411\u001b[0m     \u001b[39mfor\u001b[39;00m i, stream \u001b[39min\u001b[39;00m \u001b[39menumerate\u001b[39m(stream_manifest):\n\u001b[0;32m    412\u001b[0m         \u001b[39mtry\u001b[39;00m:\n",
      "File \u001b[1;32mc:\\Users\\keanu\\AppData\\Local\\Programs\\Python\\Python38\\lib\\site-packages\\pytube\\cipher.py:43\u001b[0m, in \u001b[0;36mCipher.__init__\u001b[1;34m(self, js)\u001b[0m\n\u001b[0;32m     37\u001b[0m \u001b[39mself\u001b[39m\u001b[39m.\u001b[39mtransform_map \u001b[39m=\u001b[39m get_transform_map(js, var)\n\u001b[0;32m     38\u001b[0m \u001b[39mself\u001b[39m\u001b[39m.\u001b[39mjs_func_patterns \u001b[39m=\u001b[39m [\n\u001b[0;32m     39\u001b[0m     \u001b[39mr\u001b[39m\u001b[39m\"\u001b[39m\u001b[39m\\\u001b[39m\u001b[39mw+\u001b[39m\u001b[39m\\\u001b[39m\u001b[39m.(\u001b[39m\u001b[39m\\\u001b[39m\u001b[39mw+)\u001b[39m\u001b[39m\\\u001b[39m\u001b[39m(\u001b[39m\u001b[39m\\\u001b[39m\u001b[39mw,(\u001b[39m\u001b[39m\\\u001b[39m\u001b[39md+)\u001b[39m\u001b[39m\\\u001b[39m\u001b[39m)\u001b[39m\u001b[39m\"\u001b[39m,\n\u001b[0;32m     40\u001b[0m     \u001b[39mr\u001b[39m\u001b[39m\"\u001b[39m\u001b[39m\\\u001b[39m\u001b[39mw+\u001b[39m\u001b[39m\\\u001b[39m\u001b[39m[(\u001b[39m\u001b[39m\\\"\u001b[39;00m\u001b[39m\\\u001b[39m\u001b[39mw+\u001b[39m\u001b[39m\\\"\u001b[39;00m\u001b[39m)\u001b[39m\u001b[39m\\\u001b[39m\u001b[39m]\u001b[39m\u001b[39m\\\u001b[39m\u001b[39m(\u001b[39m\u001b[39m\\\u001b[39m\u001b[39mw,(\u001b[39m\u001b[39m\\\u001b[39m\u001b[39md+)\u001b[39m\u001b[39m\\\u001b[39m\u001b[39m)\u001b[39m\u001b[39m\"\u001b[39m\n\u001b[0;32m     41\u001b[0m ]\n\u001b[1;32m---> 43\u001b[0m \u001b[39mself\u001b[39m\u001b[39m.\u001b[39mthrottling_plan \u001b[39m=\u001b[39m get_throttling_plan(js)\n\u001b[0;32m     44\u001b[0m \u001b[39mself\u001b[39m\u001b[39m.\u001b[39mthrottling_array \u001b[39m=\u001b[39m get_throttling_function_array(js)\n\u001b[0;32m     46\u001b[0m \u001b[39mself\u001b[39m\u001b[39m.\u001b[39mcalculated_n \u001b[39m=\u001b[39m \u001b[39mNone\u001b[39;00m\n",
      "File \u001b[1;32mc:\\Users\\keanu\\AppData\\Local\\Programs\\Python\\Python38\\lib\\site-packages\\pytube\\cipher.py:405\u001b[0m, in \u001b[0;36mget_throttling_plan\u001b[1;34m(js)\u001b[0m\n\u001b[0;32m    392\u001b[0m \u001b[39mdef\u001b[39;00m \u001b[39mget_throttling_plan\u001b[39m(js: \u001b[39mstr\u001b[39m):\n\u001b[0;32m    393\u001b[0m \u001b[39m    \u001b[39m\u001b[39m\"\"\"Extract the \"throttling plan\".\u001b[39;00m\n\u001b[0;32m    394\u001b[0m \n\u001b[0;32m    395\u001b[0m \u001b[39m    The \"throttling plan\" is a list of tuples used for calling functions\u001b[39;00m\n\u001b[1;32m   (...)\u001b[0m\n\u001b[0;32m    403\u001b[0m \u001b[39m        The full function code for computing the throttlign parameter.\u001b[39;00m\n\u001b[0;32m    404\u001b[0m \u001b[39m    \"\"\"\u001b[39;00m\n\u001b[1;32m--> 405\u001b[0m     raw_code \u001b[39m=\u001b[39m get_throttling_function_code(js)\n\u001b[0;32m    407\u001b[0m     transform_start \u001b[39m=\u001b[39m \u001b[39mr\u001b[39m\u001b[39m\"\u001b[39m\u001b[39mtry\u001b[39m\u001b[39m{\u001b[39m\u001b[39m\"\u001b[39m\n\u001b[0;32m    408\u001b[0m     plan_regex \u001b[39m=\u001b[39m re\u001b[39m.\u001b[39mcompile(transform_start)\n",
      "File \u001b[1;32mc:\\Users\\keanu\\AppData\\Local\\Programs\\Python\\Python38\\lib\\site-packages\\pytube\\cipher.py:311\u001b[0m, in \u001b[0;36mget_throttling_function_code\u001b[1;34m(js)\u001b[0m\n\u001b[0;32m    302\u001b[0m \u001b[39m\u001b[39m\u001b[39m\"\"\"Extract the raw code for the throttling function.\u001b[39;00m\n\u001b[0;32m    303\u001b[0m \n\u001b[0;32m    304\u001b[0m \u001b[39m:param str js:\u001b[39;00m\n\u001b[1;32m   (...)\u001b[0m\n\u001b[0;32m    308\u001b[0m \u001b[39m    The name of the function used to compute the throttling parameter.\u001b[39;00m\n\u001b[0;32m    309\u001b[0m \u001b[39m\"\"\"\u001b[39;00m\n\u001b[0;32m    310\u001b[0m \u001b[39m# Begin by extracting the correct function name\u001b[39;00m\n\u001b[1;32m--> 311\u001b[0m name \u001b[39m=\u001b[39m re\u001b[39m.\u001b[39mescape(get_throttling_function_name(js))\n\u001b[0;32m    313\u001b[0m \u001b[39m# Identify where the function is defined\u001b[39;00m\n\u001b[0;32m    314\u001b[0m pattern_start \u001b[39m=\u001b[39m \u001b[39mr\u001b[39m\u001b[39m\"\u001b[39m\u001b[39m%s\u001b[39;00m\u001b[39m=function\u001b[39m\u001b[39m\\\u001b[39m\u001b[39m(\u001b[39m\u001b[39m\\\u001b[39m\u001b[39mw\u001b[39m\u001b[39m\\\u001b[39m\u001b[39m)\u001b[39m\u001b[39m\"\u001b[39m \u001b[39m%\u001b[39m name\n",
      "File \u001b[1;32mc:\\Users\\keanu\\AppData\\Local\\Programs\\Python\\Python38\\lib\\site-packages\\pytube\\cipher.py:296\u001b[0m, in \u001b[0;36mget_throttling_function_name\u001b[1;34m(js)\u001b[0m\n\u001b[0;32m    293\u001b[0m                 array \u001b[39m=\u001b[39m [x\u001b[39m.\u001b[39mstrip() \u001b[39mfor\u001b[39;00m x \u001b[39min\u001b[39;00m array]\n\u001b[0;32m    294\u001b[0m                 \u001b[39mreturn\u001b[39;00m array[\u001b[39mint\u001b[39m(idx)]\n\u001b[1;32m--> 296\u001b[0m \u001b[39mraise\u001b[39;00m RegexMatchError(\n\u001b[0;32m    297\u001b[0m     caller\u001b[39m=\u001b[39m\u001b[39m\"\u001b[39m\u001b[39mget_throttling_function_name\u001b[39m\u001b[39m\"\u001b[39m, pattern\u001b[39m=\u001b[39m\u001b[39m\"\u001b[39m\u001b[39mmultiple\u001b[39m\u001b[39m\"\u001b[39m\n\u001b[0;32m    298\u001b[0m )\n",
      "\u001b[1;31mRegexMatchError\u001b[0m: get_throttling_function_name: could not find match for multiple"
     ]
    }
   ],
   "source": [
    "from pytube import YouTube\n",
    "\n",
    "link = input(\"Video URL'sini girin: \")\n",
    "\n",
    "ytube = YouTube(link)\n",
    "\n",
    "ytube = ytube.streams.get_highest_resolution\n",
    "\n",
    "ytube.download()"
   ]
  }
 ],
 "metadata": {
  "kernelspec": {
   "display_name": "Python 3",
   "language": "python",
   "name": "python3"
  },
  "language_info": {
   "codemirror_mode": {
    "name": "ipython",
    "version": 3
   },
   "file_extension": ".py",
   "mimetype": "text/x-python",
   "name": "python",
   "nbconvert_exporter": "python",
   "pygments_lexer": "ipython3",
   "version": "3.8.10"
  },
  "orig_nbformat": 4
 },
 "nbformat": 4,
 "nbformat_minor": 2
}
